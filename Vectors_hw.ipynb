{
 "cells": [
  {
   "cell_type": "code",
   "execution_count": 1,
   "metadata": {},
   "outputs": [
    {
     "name": "stdout",
     "output_type": "stream",
     "text": [
      "1.22.3\n"
     ]
    }
   ],
   "source": [
    "import numpy as np\n",
    "print(np.__version__)"
   ]
  },
  {
   "cell_type": "markdown",
   "metadata": {},
   "source": [
    "1"
   ]
  },
  {
   "cell_type": "code",
   "execution_count": 2,
   "metadata": {},
   "outputs": [
    {
     "name": "stdout",
     "output_type": "stream",
     "text": [
      "(1, 4)\n"
     ]
    }
   ],
   "source": [
    "L = [ 12.23, 13.32, 100., 36.32]\n",
    "oneDarr=np.array(L).reshape((1,len(L)))\n",
    "print(oneDarr.shape)"
   ]
  },
  {
   "cell_type": "markdown",
   "metadata": {},
   "source": [
    "2"
   ]
  },
  {
   "cell_type": "code",
   "execution_count": 3,
   "metadata": {},
   "outputs": [
    {
     "name": "stdout",
     "output_type": "stream",
     "text": [
      "[[ 2  3  4]\n",
      " [ 5  6  7]\n",
      " [ 8  9 10]]\n"
     ]
    },
    {
     "data": {
      "text/plain": [
       "(3, 3)"
      ]
     },
     "execution_count": 3,
     "metadata": {},
     "output_type": "execute_result"
    }
   ],
   "source": [
    "out = np.array(range(2,11)).reshape((3,3))\n",
    "print(out)\n",
    "out.shape"
   ]
  },
  {
   "cell_type": "markdown",
   "metadata": {},
   "source": [
    "3"
   ]
  },
  {
   "cell_type": "code",
   "execution_count": 4,
   "metadata": {},
   "outputs": [
    {
     "name": "stdout",
     "output_type": "stream",
     "text": [
      "[ 0.  0.  0.  0.  0. 11.  0.  0.  0.  0.]\n"
     ]
    }
   ],
   "source": [
    "arr = np.zeros(10)\n",
    "arr[5] = 11.\n",
    "print(arr)"
   ]
  },
  {
   "cell_type": "markdown",
   "metadata": {},
   "source": [
    "4"
   ]
  },
  {
   "cell_type": "code",
   "execution_count": 5,
   "metadata": {},
   "outputs": [
    {
     "name": "stdout",
     "output_type": "stream",
     "text": [
      "[12 13 14 15 16 17 18 19 20 21 22 23 24 25 26 27 28 29 30 31 32 33 34 35\n",
      " 36 37]\n"
     ]
    }
   ],
   "source": [
    "out = np.arange(12,38)\n",
    "print(out)"
   ]
  },
  {
   "cell_type": "markdown",
   "metadata": {},
   "source": [
    "5"
   ]
  },
  {
   "cell_type": "code",
   "execution_count": 6,
   "metadata": {},
   "outputs": [
    {
     "name": "stdout",
     "output_type": "stream",
     "text": [
      "[37 36 35 34 33 32 31 30 29 28 27 26 25 24 23 22 21 20 19 18 17 16 15 14\n",
      " 13 12]\n"
     ]
    }
   ],
   "source": [
    "out = np.arange(12,38)[::-1]\n",
    "print(out)"
   ]
  },
  {
   "cell_type": "markdown",
   "metadata": {},
   "source": [
    "6"
   ]
  },
  {
   "cell_type": "code",
   "execution_count": 7,
   "metadata": {},
   "outputs": [
    {
     "name": "stdout",
     "output_type": "stream",
     "text": [
      "[1. 2. 3. 4.]\n"
     ]
    }
   ],
   "source": [
    "out = np.asfarray(range(1,5))\n",
    "print(out)"
   ]
  },
  {
   "cell_type": "markdown",
   "metadata": {},
   "source": [
    "7"
   ]
  },
  {
   "cell_type": "code",
   "execution_count": 8,
   "metadata": {},
   "outputs": [
    {
     "name": "stdout",
     "output_type": "stream",
     "text": [
      "[[1. 1. 1. 1. 1.]\n",
      " [1. 0. 0. 0. 1.]\n",
      " [1. 0. 0. 0. 1.]\n",
      " [1. 0. 0. 0. 1.]\n",
      " [1. 0. 0. 0. 1.]\n",
      " [1. 0. 0. 0. 1.]\n",
      " [1. 1. 1. 1. 1.]]\n"
     ]
    }
   ],
   "source": [
    "ones_matrix = np.ones((7,5))\n",
    "ones_matrix[1:-1,1:-1] = 0\n",
    "out = ones_matrix\n",
    "print(out)"
   ]
  },
  {
   "cell_type": "markdown",
   "metadata": {},
   "source": [
    "8"
   ]
  },
  {
   "cell_type": "code",
   "execution_count": 9,
   "metadata": {},
   "outputs": [
    {
     "name": "stdout",
     "output_type": "stream",
     "text": [
      "[[0. 0. 0. 0. 0.]\n",
      " [0. 1. 1. 1. 0.]\n",
      " [0. 1. 1. 1. 0.]\n",
      " [0. 1. 1. 1. 0.]\n",
      " [0. 0. 0. 0. 0.]]\n"
     ]
    }
   ],
   "source": [
    "arr = np.ones((3, 3))\n",
    "out = np.pad(arr, pad_width=(1, 1), mode='constant', constant_values=0)\n",
    "print(out)"
   ]
  },
  {
   "cell_type": "markdown",
   "metadata": {},
   "source": [
    "9"
   ]
  },
  {
   "cell_type": "code",
   "execution_count": 10,
   "metadata": {},
   "outputs": [
    {
     "name": "stdout",
     "output_type": "stream",
     "text": [
      "[[0. 1. 0. 1. 0. 1. 0. 1.]\n",
      " [1. 0. 1. 0. 1. 0. 1. 0.]\n",
      " [0. 1. 0. 1. 0. 1. 0. 1.]\n",
      " [1. 0. 1. 0. 1. 0. 1. 0.]\n",
      " [0. 1. 0. 1. 0. 1. 0. 1.]\n",
      " [1. 0. 1. 0. 1. 0. 1. 0.]\n",
      " [0. 1. 0. 1. 0. 1. 0. 1.]\n",
      " [1. 0. 1. 0. 1. 0. 1. 0.]]\n"
     ]
    }
   ],
   "source": [
    "arr = np.ones((8,8))\n",
    "arr[::2, ::2] = 0.\n",
    "arr[1::2, 1::2] = 0.\n",
    "out = arr\n",
    "print(out)"
   ]
  },
  {
   "cell_type": "markdown",
   "metadata": {},
   "source": [
    "10"
   ]
  },
  {
   "cell_type": "code",
   "execution_count": 11,
   "metadata": {},
   "outputs": [
    {
     "name": "stdout",
     "output_type": "stream",
     "text": [
      "[1 2 3 4 5 6 7 8] [[8 4 6]\n",
      " [1 2 3]]\n"
     ]
    }
   ],
   "source": [
    "out1 = np.asarray(range(8))+1\n",
    "out2 = np.asarray([[8, 4, 6], [1, 2, 3]])\n",
    "print(out1, out2)"
   ]
  },
  {
   "cell_type": "markdown",
   "metadata": {},
   "source": [
    "11"
   ]
  },
  {
   "cell_type": "code",
   "execution_count": 12,
   "metadata": {},
   "outputs": [
    {
     "name": "stdout",
     "output_type": "stream",
     "text": [
      "[10 20 30 40 50 60 70 80 90]\n"
     ]
    }
   ],
   "source": [
    "arr = np.array([10, 20, 30])\n",
    "out = np.append(arr, [arr+30, arr+60])\n",
    "print(out)"
   ]
  },
  {
   "cell_type": "markdown",
   "metadata": {},
   "source": [
    "12"
   ]
  },
  {
   "cell_type": "code",
   "execution_count": 13,
   "metadata": {},
   "outputs": [
    {
     "name": "stdout",
     "output_type": "stream",
     "text": [
      "[-0.   12.   45.21 34.   99.91]\n"
     ]
    }
   ],
   "source": [
    "arr = np.array([-17.77777778, -11.11111111, 7.33888889, 1.1111111, 37.72777778])\n",
    "def degC_to_degF(arr_in_C):\n",
    "    return ((9.*arr_in_C) + (32.*5.))/5\n",
    "out = degC_to_degF(arr)\n",
    "out = np.round(out, 2)\n",
    "print(out)\n"
   ]
  },
  {
   "cell_type": "markdown",
   "metadata": {},
   "source": [
    "13"
   ]
  },
  {
   "cell_type": "code",
   "execution_count": 14,
   "metadata": {},
   "outputs": [
    {
     "name": "stdout",
     "output_type": "stream",
     "text": [
      "array contains 3 elements\n",
      "first item is 4 bytes\n",
      "array takes up 12 bytes\n"
     ]
    }
   ],
   "source": [
    "def get_arrinfo(arr):\n",
    "    print('array contains', arr.size, 'elements')\n",
    "    print('first item is', arr[0].itemsize, 'bytes')\n",
    "    print('array takes up', arr.nbytes, 'bytes')\n",
    "get_arrinfo(np.array([1, 2, 3]))\n",
    "#print(out)"
   ]
  },
  {
   "cell_type": "markdown",
   "metadata": {},
   "source": [
    "14"
   ]
  },
  {
   "cell_type": "code",
   "execution_count": 15,
   "metadata": {},
   "outputs": [
    {
     "name": "stdout",
     "output_type": "stream",
     "text": [
      "[10 40]\n"
     ]
    }
   ],
   "source": [
    "def arr_intersection(arr1, arr2):\n",
    "    L1, L2 = arr1.flatten(), arr2.flatten()\n",
    "    arr3 = np.array([el for el in L1 if el in L2])\n",
    "    return arr3\n",
    "array1 = np.array([0, 10, 20, 40, 60])\n",
    "array2 = np.array([10, 30, 40])\n",
    "out = arr_intersection(array1, array2)\n",
    "print(out)"
   ]
  },
  {
   "cell_type": "markdown",
   "metadata": {},
   "source": [
    "15"
   ]
  },
  {
   "cell_type": "code",
   "execution_count": 16,
   "metadata": {},
   "outputs": [
    {
     "name": "stdout",
     "output_type": "stream",
     "text": [
      "[10 10 20 20 30 30] -> [10 20 30]\n",
      "[[1 1]\n",
      " [2 3]] -> [1 2 3]\n"
     ]
    }
   ],
   "source": [
    "arr1 = np.array([10, 10, 20, 20, 30, 30])\n",
    "arr2 = np.array([[1, 1], [2, 3]])\n",
    "def uniquify_arr(arr):  \n",
    "    \"\"\"returns an unsorted array of unique elements\"\"\"\n",
    "    return np.array(list(set(arr.flatten())))\n",
    "print(arr1, '->', uniquify_arr(arr1))\n",
    "print(arr2, '->', uniquify_arr(arr2))"
   ]
  },
  {
   "cell_type": "markdown",
   "metadata": {},
   "source": [
    "16"
   ]
  },
  {
   "cell_type": "code",
   "execution_count": 17,
   "metadata": {},
   "outputs": [
    {
     "name": "stdout",
     "output_type": "stream",
     "text": [
      "array 1 = [ 0 10 20 40 60 80] ; array2 = [10 30 40 50 70]\n",
      "vals in array 1, excluding vals in array 2 = [ 0 80 20 60] \n",
      "\n"
     ]
    }
   ],
   "source": [
    "arr1 = np.array([0, 10, 20, 40, 60, 80])\n",
    "arr2 = np.array([10, 30, 40, 50, 70])\n",
    "def A_excluding_B(arrA, arrB):\n",
    "    A = uniquify_arr(arrA)\n",
    "    B = uniquify_arr(arrB)\n",
    "    print('array 1 =', arrA, '; array2 =', arrB)\n",
    "    arr_out = np.array([el for el in A if el not in B])\n",
    "    print('vals in array 1, excluding vals in array 2 =', arr_out, '\\n')\n",
    "    return np.sort(arr_out)\n",
    "out = A_excluding_B(arr1, arr2)\n"
   ]
  },
  {
   "cell_type": "markdown",
   "metadata": {},
   "source": [
    "17"
   ]
  },
  {
   "cell_type": "code",
   "execution_count": 18,
   "metadata": {},
   "outputs": [
    {
     "name": "stdout",
     "output_type": "stream",
     "text": [
      "array 1 = [ 0 10 20 40 60 80] ; array2 = [10 30 40 50 70]\n",
      "vals in array 1, excluding vals in array 2 = [ 0 80 20 60] \n",
      "\n",
      "array 1 = [10 30 40 50 70] ; array2 = [ 0 10 20 40 60 80]\n",
      "vals in array 1, excluding vals in array 2 = [70 50 30] \n",
      "\n",
      "arrays = { [ 0 10 20 40 60 80] , [10 30 40 50 70] }\n",
      "vals unique to exactly one array = [ 0 20 60 80 30 50 70]\n"
     ]
    }
   ],
   "source": [
    "arr1 = np.array([0, 10, 20, 40, 60, 80])\n",
    "arr2 = np.array([10, 30, 40, 50, 70])\n",
    "def vals_exclusive_to_one_arr(arrA, arrB):\n",
    "    arrout = np.append(A_excluding_B(arrA, arrB), A_excluding_B(arrB, arrA))\n",
    "    print('arrays = {', arrA, ',', arrB, '}')\n",
    "    print('vals unique to exactly one array =', arrout)\n",
    "    return(arrout)\n",
    "out = vals_exclusive_to_one_arr(arr1, arr2)\n"
   ]
  },
  {
   "cell_type": "markdown",
   "metadata": {},
   "source": [
    "18"
   ]
  },
  {
   "cell_type": "code",
   "execution_count": 19,
   "metadata": {},
   "outputs": [
    {
     "name": "stdout",
     "output_type": "stream",
     "text": [
      "[ 0 10 20 30 40 50 60 70 80]\n"
     ]
    }
   ],
   "source": [
    "arr1 = np.array([0, 10, 20, 40, 60, 80])\n",
    "arr2 = np.array([10, 30, 40, 50, 70])\n",
    "def arr_union(arrA, arrB):\n",
    "    appendAB = np.append(arrA.flatten(), arrB.flatten())\n",
    "    return np.sort(uniquify_arr(appendAB))\n",
    "print(arr_union(arr1, arr2))"
   ]
  },
  {
   "cell_type": "markdown",
   "metadata": {},
   "source": [
    "19"
   ]
  },
  {
   "cell_type": "code",
   "execution_count": 20,
   "metadata": {},
   "outputs": [
    {
     "name": "stdout",
     "output_type": "stream",
     "text": [
      "False True\n"
     ]
    }
   ],
   "source": [
    "bools_true = np.arange(1,11)>0\n",
    "bools = bools_true.copy()\n",
    "bools[0:2] = [0, False]\n",
    "def contains_no_falses(arr):\n",
    "    if False in arr or 0 in arr:\n",
    "        return False\n",
    "    else:\n",
    "        return True\n",
    "out1 = contains_no_falses(bools)\n",
    "out2 = contains_no_falses(bools_true)\n",
    "print(out1, out2)"
   ]
  },
  {
   "cell_type": "markdown",
   "metadata": {},
   "source": [
    "20"
   ]
  },
  {
   "cell_type": "code",
   "execution_count": null,
   "metadata": {},
   "outputs": [],
   "source": []
  },
  {
   "cell_type": "code",
   "execution_count": 21,
   "metadata": {},
   "outputs": [
    {
     "data": {
      "text/plain": [
       "array([0, 1], dtype=int64)"
      ]
     },
     "execution_count": 21,
     "metadata": {},
     "output_type": "execute_result"
    }
   ],
   "source": [
    "np.where(np.array([[0,0,1],[0,1,0],[0,0,0]]))[0]"
   ]
  },
  {
   "cell_type": "code",
   "execution_count": 22,
   "metadata": {},
   "outputs": [
    {
     "name": "stdout",
     "output_type": "stream",
     "text": [
      "array:\n",
      " [1 1 0 1 6 2 2 0]\n",
      "min = 0 @ [(0, 2), (0, 7)]\n",
      "max = 6 @ [(0, 4)]\n",
      "array:\n",
      " [[1 1 0 1 1 2 2 0]]\n",
      "min = 0 @ [(0, 2), (0, 7)]\n",
      "max = 2 @ [(0, 5), (0, 6)]\n",
      "array:\n",
      " [[1 1 0 1 1 2 1 0]\n",
      " [1 1 0 1 1 2 2 0]]\n",
      "min = 0 @ [(0, 2), (0, 7), (1, 2), (1, 7)]\n",
      "max = 2 @ [(0, 5), (1, 5), (1, 6)]\n"
     ]
    }
   ],
   "source": [
    "def whereis_el(arr, el):\n",
    "    if arr.ndim == 1:\n",
    "        arr = arr.reshape((1, arr.size))\n",
    "    rows_w_el,cols_w_el = np.where(arr == el)\n",
    "    return list(zip(rows_w_el,cols_w_el))\n",
    "\n",
    "def whereis_minmax(arr):\n",
    "    \"\"\"returns indecies of min and max values in arr\"\"\"\n",
    "    elementlist = np.sort(uniquify_arr(arr))\n",
    "    min = elementlist[0]\n",
    "    max = elementlist[-1]\n",
    "    print('array:\\n', arr)\n",
    "    print('min =', min,'@',\n",
    "        whereis_el(arr,min))\n",
    "    print('max =', max, '@',\n",
    "        whereis_el(arr,max))\n",
    "\n",
    "ar1=np.array([1,1,0,1,6,2,2,0])\n",
    "ar2=np.array([[1,1,0,1,1,2,2,0]])\n",
    "ar3=np.array([[1,1,0,1,1,2,1,0],[1,1,0,1,1,2,2,0]])\n",
    "\n",
    "whereis_minmax(ar1)\n",
    "whereis_minmax(ar2)\n",
    "whereis_minmax(ar3)"
   ]
  },
  {
   "cell_type": "markdown",
   "metadata": {},
   "source": [
    "21"
   ]
  },
  {
   "cell_type": "code",
   "execution_count": 23,
   "metadata": {},
   "outputs": [
    {
     "name": "stdout",
     "output_type": "stream",
     "text": [
      "20 @ (0, 2)\n",
      "20 @ (1, 0)\n",
      "30 @ (1, 1)\n",
      "40 @ (1, 2)\n"
     ]
    }
   ],
   "source": [
    "def whereis_true(boolarr):\n",
    "    if boolarr.ndim == 1:\n",
    "        boolarr = boolarr.reshape((1, boolarr.size))\n",
    "    rows,cols = np.where(boolarr)\n",
    "    return list(zip(rows,cols))\n",
    "\n",
    "arr = np.array([[0,10,20],[20,30,40]])\n",
    "indecies=whereis_true(arr>10)\n",
    "\n",
    "for index in indecies:\n",
    "    print(arr[index],'@', index)"
   ]
  },
  {
   "cell_type": "markdown",
   "metadata": {},
   "source": [
    "22"
   ]
  },
  {
   "cell_type": "code",
   "execution_count": 24,
   "metadata": {},
   "outputs": [
    {
     "name": "stdout",
     "output_type": "stream",
     "text": [
      "[0. 0.] [1. 1.]\n"
     ]
    }
   ],
   "source": [
    "\n",
    "print(np.zeros(2),np.ones(2))"
   ]
  },
  {
   "cell_type": "markdown",
   "metadata": {},
   "source": [
    "23"
   ]
  },
  {
   "cell_type": "code",
   "execution_count": 25,
   "metadata": {},
   "outputs": [
    {
     "name": "stdout",
     "output_type": "stream",
     "text": [
      "[10 20 30 20 40 50]\n"
     ]
    }
   ],
   "source": [
    "arr = np.array([[10, 20, 30], [20, 40, 50]])\n",
    "print(arr.flatten())"
   ]
  },
  {
   "cell_type": "markdown",
   "metadata": {},
   "source": [
    "24"
   ]
  },
  {
   "cell_type": "code",
   "execution_count": 26,
   "metadata": {},
   "outputs": [
    {
     "name": "stdout",
     "output_type": "stream",
     "text": [
      "[[10 20]\n",
      " [30 40]\n",
      " [50 60]]\n"
     ]
    }
   ],
   "source": [
    "arr = np.array([[10, 20, 30], [40, 50, 60]])\n",
    "\n",
    "print(arr.reshape((3,2)))"
   ]
  },
  {
   "cell_type": "markdown",
   "metadata": {},
   "source": [
    "25"
   ]
  },
  {
   "cell_type": "code",
   "execution_count": 27,
   "metadata": {},
   "outputs": [
    {
     "data": {
      "text/plain": [
       "array([[1., 2., 3.],\n",
       "       [4., 5., 6.]])"
      ]
     },
     "execution_count": 27,
     "metadata": {},
     "output_type": "execute_result"
    }
   ],
   "source": [
    "np.array([[1, 2, 3], [4, 5, 6]]).astype(float)\n",
    "#print(out)"
   ]
  },
  {
   "cell_type": "markdown",
   "metadata": {},
   "source": [
    "26"
   ]
  },
  {
   "cell_type": "code",
   "execution_count": 28,
   "metadata": {},
   "outputs": [
    {
     "name": "stdout",
     "output_type": "stream",
     "text": [
      "[2.         2.09376047 2.19191645 2.29467401 2.40224887 2.51486686\n",
      " 2.63276441 2.75618902 2.88539981 3.02066803 3.16227766 3.31052598\n",
      " 3.46572422 3.62819818 3.79828896 3.97635364 4.16276604 4.35791749\n",
      " 4.56221768 4.77609552]\n"
     ]
    }
   ],
   "source": [
    "out = np.logspace(np.log10(2.), np.log10(5.), 20, endpoint = False, base=10)\n",
    "print(out)"
   ]
  },
  {
   "cell_type": "markdown",
   "metadata": {},
   "source": [
    "27"
   ]
  },
  {
   "cell_type": "code",
   "execution_count": 29,
   "metadata": {},
   "outputs": [
    {
     "name": "stdout",
     "output_type": "stream",
     "text": [
      "[[ 0  1  3  0  2  4]\n",
      " [ 5  7  9  6  8 10]]\n"
     ]
    }
   ],
   "source": [
    "arr1 = [[0, 1, 3], [5, 7, 9]]\n",
    "arr2 = [[0, 2, 4], [6, 8, 10]]\n",
    "out = np.concatenate((arr1, arr2), axis = 1)\n",
    "print(out)"
   ]
  },
  {
   "cell_type": "markdown",
   "metadata": {},
   "source": [
    "28"
   ]
  },
  {
   "cell_type": "code",
   "execution_count": 30,
   "metadata": {},
   "outputs": [
    {
     "name": "stdout",
     "output_type": "stream",
     "text": [
      "[array([1, 2]), array([3, 4, 5, 6]), array([ 7,  8,  9, 10, 11, 12, 13, 14])]\n"
     ]
    }
   ],
   "source": [
    "arr0 = [1, 2, 3, 4, 5, 6, 7, 8, 9, 10, 11, 12, 13, 14]\n",
    "out = (np.split(arr0, [2,6]))\n",
    "print(out)"
   ]
  },
  {
   "cell_type": "markdown",
   "metadata": {},
   "source": [
    "29"
   ]
  },
  {
   "cell_type": "code",
   "execution_count": 31,
   "metadata": {},
   "outputs": [
    {
     "name": "stdout",
     "output_type": "stream",
     "text": [
      "[[ 0  1]\n",
      " [ 4  5]\n",
      " [ 8  9]\n",
      " [12 13]] \n",
      " [[ 2  3]\n",
      " [ 6  7]\n",
      " [10 11]\n",
      " [14 15]]\n"
     ]
    }
   ],
   "source": [
    "arr0 = np.array([[0, 1, 2, 3], [4, 5, 6, 7], [8, 9, 10, 11], [12, 13, 14, 15]])\n",
    "out = np.split(arr0, 2, axis=1)\n",
    "print(out[0],'\\n', out[1])"
   ]
  },
  {
   "cell_type": "markdown",
   "metadata": {},
   "source": [
    "30"
   ]
  },
  {
   "cell_type": "code",
   "execution_count": 32,
   "metadata": {},
   "outputs": [
    {
     "name": "stdout",
     "output_type": "stream",
     "text": [
      "5\n"
     ]
    }
   ],
   "source": [
    "arr = [[ 0, 10, 20], [20, 30, 40]]\n",
    "out = np.count_nonzero(arr)\n",
    "print(out)"
   ]
  },
  {
   "cell_type": "markdown",
   "metadata": {},
   "source": [
    "31"
   ]
  },
  {
   "cell_type": "code",
   "execution_count": 33,
   "metadata": {},
   "outputs": [
    {
     "name": "stdout",
     "output_type": "stream",
     "text": [
      "[[  0  10  20 100]\n",
      " [ 30  40  50 200]]\n"
     ]
    }
   ],
   "source": [
    "arr = [[ 0, 10, 20], [30, 40, 50]]\n",
    "out = np.append(arr, [[100], [200]], axis = 1)\n",
    "print(out)"
   ]
  },
  {
   "cell_type": "markdown",
   "metadata": {},
   "source": [
    "32"
   ]
  },
  {
   "cell_type": "code",
   "execution_count": 34,
   "metadata": {},
   "outputs": [
    {
     "name": "stdout",
     "output_type": "stream",
     "text": [
      "[[ 1  0 20]\n",
      " [ 0 40 50]]\n"
     ]
    }
   ],
   "source": [
    "arr = np.array([[ 1, -10, 20], [-30, 40, 50]])\n",
    "out = arr * (arr>0).astype(int)\n",
    "print(out)"
   ]
  },
  {
   "cell_type": "markdown",
   "metadata": {},
   "source": [
    "33"
   ]
  },
  {
   "cell_type": "code",
   "execution_count": 35,
   "metadata": {},
   "outputs": [
    {
     "name": "stdout",
     "output_type": "stream",
     "text": [
      "[[  1. -10.  20.]\n",
      " [-30.  40.  50.]] \n",
      " [[  1. -10.  20.]\n",
      " [-30.  40.  50.]]\n"
     ]
    }
   ],
   "source": [
    "import pandas as pd\n",
    "arr = np.array([[ 1, -10, 20], [-30, 40, 50], [np.NaN, 2, 4]])\n",
    "out1 = np.array([v for v in arr if not np.isnan(v).any()])\n",
    "out2 = np.array([v for v in arr if not pd.isna(v).any()])\n",
    "\n",
    "print(out1,'\\n', out2)"
   ]
  },
  {
   "cell_type": "markdown",
   "metadata": {},
   "source": [
    "34"
   ]
  },
  {
   "cell_type": "code",
   "execution_count": 36,
   "metadata": {},
   "outputs": [
    {
     "name": "stdout",
     "output_type": "stream",
     "text": [
      "['e', 'i']\n"
     ]
    }
   ],
   "source": [
    "a = np.array([97, 101, 105, 111, 117]) \n",
    "b = np.array(['a','e','i','o','u'])\n",
    "out = [L[1] for L in enumerate(b) if (100 < a[L[0]] and a[L[0]] < 110) ]\n",
    "print(out)"
   ]
  },
  {
   "cell_type": "markdown",
   "metadata": {},
   "source": [
    "35"
   ]
  },
  {
   "cell_type": "code",
   "execution_count": 37,
   "metadata": {},
   "outputs": [
    {
     "name": "stdout",
     "output_type": "stream",
     "text": [
      "[[10  3]\n",
      " [20  4]\n",
      " [30  2]\n",
      " [40  2]\n",
      " [50  1]]\n"
     ]
    }
   ],
   "source": [
    "arr = np.array([10, 10, 20, 10, 20, 20, 20, 30, 30, 50, 40, 40])\n",
    "vals = np.sort(uniquify_arr(arr))\n",
    "out = np.array([[val, np.sum(arr==val)] for val in vals])\n",
    "print(out)"
   ]
  },
  {
   "cell_type": "markdown",
   "metadata": {},
   "source": [
    "36"
   ]
  },
  {
   "cell_type": "code",
   "execution_count": 38,
   "metadata": {},
   "outputs": [
    {
     "name": "stdout",
     "output_type": "stream",
     "text": [
      "[[2 3]\n",
      " [5 6]\n",
      " [8 9]]\n"
     ]
    }
   ],
   "source": [
    "arr = np.array([[1, 2, 3], [4, 5, 6], [7, 8, 9]])\n",
    "out = arr[:,-2:]\n",
    "print(out)"
   ]
  },
  {
   "cell_type": "markdown",
   "metadata": {},
   "source": [
    "37"
   ]
  },
  {
   "cell_type": "code",
   "execution_count": 39,
   "metadata": {},
   "outputs": [
    {
     "name": "stdout",
     "output_type": "stream",
     "text": [
      "[1 3 5]\n",
      "[1 3 5]\n"
     ]
    }
   ],
   "source": [
    "arr = np.array([1, 0, 2, 0, 3, 0, 4, 5, 6, 7, 8])\n",
    "\n",
    "out = np.array([x[0] for x in enumerate(arr) if x[1]==0])\n",
    "print(out)\n",
    "#alternatively:\n",
    "print(np.where(arr==0)[0])"
   ]
  },
  {
   "cell_type": "code",
   "execution_count": null,
   "metadata": {},
   "outputs": [],
   "source": []
  }
 ],
 "metadata": {
  "interpreter": {
   "hash": "23721f7ccdba8d10dbed52de1ec10dc723c7659d2c7ca391d31ecfb7851a1907"
  },
  "kernelspec": {
   "display_name": "Python 3.9.12 ('DataSci')",
   "language": "python",
   "name": "python3"
  },
  "language_info": {
   "codemirror_mode": {
    "name": "ipython",
    "version": 3
   },
   "file_extension": ".py",
   "mimetype": "text/x-python",
   "name": "python",
   "nbconvert_exporter": "python",
   "pygments_lexer": "ipython3",
   "version": "3.9.12"
  },
  "orig_nbformat": 4
 },
 "nbformat": 4,
 "nbformat_minor": 2
}
